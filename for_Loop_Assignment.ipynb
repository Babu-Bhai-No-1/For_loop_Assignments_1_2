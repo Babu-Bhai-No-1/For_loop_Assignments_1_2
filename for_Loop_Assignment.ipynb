{
 "cells": [
  {
   "cell_type": "code",
   "execution_count": 5,
   "id": "b3ed57b5-419c-4391-b223-1010d43bff6b",
   "metadata": {},
   "outputs": [
    {
     "name": "stdout",
     "output_type": "stream",
     "text": [
      "RajPatel@gmail.com\n",
      "PriyaSharma@gmail.com\n",
      "AmitKumar@gmail.com\n",
      "NehaSingh@gmail.com\n"
     ]
    }
   ],
   "source": [
    "#You have a nested list as below:\n",
    "#indian_employees = [[\"Raj\", \"Patel\"], [\"Priya\", \"Sharma\"],[\"Amit\", \"Kumar\"],[\"Neha\", \"Singh\"]]\n",
    "#your have to create an email address for each employee.\n",
    "indian_employees = [[\"Raj\", \"Patel\"], [\"Priya\", \"Sharma\"],[\"Amit\", \"Kumar\"],[\"Neha\", \"Singh\"]]\n",
    "for i in indian_employees:\n",
    "    print(f\"{i[0]}{i[1]}@gmail.com\")"
   ]
  },
  {
   "cell_type": "code",
   "execution_count": 7,
   "id": "06f9dee2-2980-465b-b15d-50f07b1f244e",
   "metadata": {},
   "outputs": [
    {
     "name": "stdout",
     "output_type": "stream",
     "text": [
      "1\n",
      "2\n",
      "3\n",
      "4\n",
      "5\n",
      "6\n",
      "7\n",
      "8\n",
      "9\n",
      "10\n"
     ]
    }
   ],
   "source": [
    "#Question 1: Write a Python program to print all the numbers from 1 to 10 using a for loop.\n",
    "for i in range(1,11,1):\n",
    "    print(i)"
   ]
  },
  {
   "cell_type": "code",
   "execution_count": 9,
   "id": "8636a32f-3600-42c6-bcdd-0fa54d7e2623",
   "metadata": {},
   "outputs": [
    {
     "name": "stdout",
     "output_type": "stream",
     "text": [
      "5050\n"
     ]
    }
   ],
   "source": [
    "#Question 2: Write a Python program to find the sum of all numbers from 1 to 100 using a for\n",
    "#loop.\n",
    "sum=0\n",
    "for i in range(1,101,1):\n",
    "    sum=sum+i\n",
    "print(sum)\n"
   ]
  },
  {
   "cell_type": "code",
   "execution_count": 13,
   "id": "d7912c5e-0453-4333-baea-af03d84e9458",
   "metadata": {},
   "outputs": [
    {
     "name": "stdin",
     "output_type": "stream",
     "text": [
      "Enter the number 3\n"
     ]
    },
    {
     "name": "stdout",
     "output_type": "stream",
     "text": [
      "3x1=3\n",
      "3x2=6\n",
      "3x3=9\n",
      "3x4=12\n",
      "3x5=15\n",
      "3x6=18\n",
      "3x7=21\n",
      "3x8=24\n",
      "3x9=27\n",
      "3x10=30\n"
     ]
    }
   ],
   "source": [
    "#Question 3: Write a Python program to print the multiplication table of a given number using a\n",
    "#for loop.\n",
    "num=int(input(\"Enter the number\"))\n",
    "for i in range(1,11,1):\n",
    "    print(f\"{num}x{i}={num*i}\")"
   ]
  },
  {
   "cell_type": "code",
   "execution_count": 27,
   "id": "97e0c147-a097-4842-8821-47cfc1cb5bcc",
   "metadata": {},
   "outputs": [
    {
     "name": "stdout",
     "output_type": "stream",
     "text": [
      "even numbers are:5\n",
      "odd numbers are:5\n"
     ]
    }
   ],
   "source": [
    "#Question 4: Write a Python program to count the number of even and odd numbers from a\n",
    "#series of numbers using a for loop.\n",
    "list= [1, 2, 3, 4, 5, 6, 7, 8, 9, 10]\n",
    "count_even=0\n",
    "count_odd=0\n",
    "for i in list:\n",
    "    if(i%2==0):\n",
    "        count_even=count_even+1\n",
    "    else:\n",
    "        count_odd=count_odd+1\n",
    "print(f\"even numbers are:{count_even}\")\n",
    "print(f\"odd numbers are:{count_odd}\")"
   ]
  },
  {
   "cell_type": "code",
   "execution_count": 21,
   "id": "442b3a33-2a08-48fb-b863-4b2325473607",
   "metadata": {},
   "outputs": [
    {
     "name": "stdin",
     "output_type": "stream",
     "text": [
      "Enter the number: 5\n"
     ]
    },
    {
     "name": "stdout",
     "output_type": "stream",
     "text": [
      "120\n"
     ]
    }
   ],
   "source": [
    "#Question 5: Write a Python program to find the factorial of a number using a for loop.\n",
    "fact=1\n",
    "num=int(input(\"Enter the number:\"))\n",
    "for i in range(2,num+1,1):\n",
    "    fact=fact*i\n",
    "print(fact)    "
   ]
  },
  {
   "cell_type": "code",
   "execution_count": 9,
   "id": "13249f80-40ca-4de9-8fc9-c38a4bf98810",
   "metadata": {},
   "outputs": [
    {
     "name": "stdin",
     "output_type": "stream",
     "text": [
      "Enter the Number: 5\n"
     ]
    },
    {
     "name": "stdout",
     "output_type": "stream",
     "text": [
      "0\n",
      "1\n",
      "1\n",
      "2\n",
      "3\n"
     ]
    }
   ],
   "source": [
    "#Question 6: Write a Python program to print the Fibonacci sequence up to a specified number\n",
    "#using a for loop.\n",
    "num=int(input(\"Enter the Number:\"))\n",
    "\n",
    "fib=[0,1]\n",
    "print(fib[0])\n",
    "print(fib[1])\n",
    "for i in range(2,num,1):\n",
    "    fib.append(fib[i-1]+fib[i-2])\n",
    "    print(fib[i])\n"
   ]
  },
  {
   "cell_type": "code",
   "execution_count": 19,
   "id": "ccdb0512-0773-4802-be2a-113f7517f5a8",
   "metadata": {},
   "outputs": [
    {
     "name": "stdin",
     "output_type": "stream",
     "text": [
      "Enter the number 25\n"
     ]
    },
    {
     "name": "stdout",
     "output_type": "stream",
     "text": [
      "not prime\n"
     ]
    }
   ],
   "source": [
    "#Question 7: Write a Python program to check if a given number is prime or not using a for loop.\n",
    "num=int(input(\"Enter the number\"))\n",
    "for i in range(2,num,1):\n",
    "    if(num%i==0):\n",
    "        print(\"not prime\")\n",
    "        break\n",
    "else:\n",
    "    print(\"Prime\")"
   ]
  },
  {
   "cell_type": "code",
   "execution_count": 29,
   "id": "f7aae471-1a68-45de-aa8a-e07c9584e717",
   "metadata": {},
   "outputs": [
    {
     "name": "stdout",
     "output_type": "stream",
     "text": [
      "10\n"
     ]
    }
   ],
   "source": [
    "#Question 8: Write a Python program to find the largest element in a list using a for loop.\n",
    "list= [1, 2, 3, 4, 5, 6, 7, 8, 9, 10]\n",
    "largest=list[0]\n",
    "for i in range(0,len(list),1):\n",
    "    if(list[i]>largest):\n",
    "        largest=list[i]\n",
    "print(largest)        "
   ]
  },
  {
   "cell_type": "code",
   "execution_count": 21,
   "id": "7483e8ab-aa9d-4361-914e-5db78c3ccd8c",
   "metadata": {},
   "outputs": [
    {
     "name": "stdin",
     "output_type": "stream",
     "text": [
      "Enter the string: the\n"
     ]
    },
    {
     "name": "stdout",
     "output_type": "stream",
     "text": [
      "eht\n"
     ]
    }
   ],
   "source": [
    "#Question 9: Write a Python program to reverse a given string using a for loop.\n",
    "str=input(\"Enter the string:\")\n",
    "str1=list(str)\n",
    "n=len(str1)\n",
    "\n",
    "for i in range(0,n//2,1):\n",
    "    str1[i],str1[n-i-1]=str1[n-i-1],str1[i]\n",
    "str2=\"\".join(str1)\n",
    "print(str2)"
   ]
  },
  {
   "cell_type": "code",
   "execution_count": 15,
   "id": "b7e30ae3-96e9-42c7-8df9-f9a9fa952e0b",
   "metadata": {},
   "outputs": [
    {
     "name": "stdout",
     "output_type": "stream",
     "text": [
      "1\n"
     ]
    }
   ],
   "source": [
    "#Question 10: Write a Python program to find the common elements between two lists using a\n",
    "#for loop.\n",
    "#List1 = [1,2,3]\n",
    "#List2 = [4,5,1]\n",
    "List1 = [1,2,3]\n",
    "List2 = [4,5,1]\n",
    "for i in List1:\n",
    "    for i2 in List2:\n",
    "        if i==i2:\n",
    "            print(i)"
   ]
  }
 ],
 "metadata": {
  "kernelspec": {
   "display_name": "Python 3 (ipykernel)",
   "language": "python",
   "name": "python3"
  },
  "language_info": {
   "codemirror_mode": {
    "name": "ipython",
    "version": 3
   },
   "file_extension": ".py",
   "mimetype": "text/x-python",
   "name": "python",
   "nbconvert_exporter": "python",
   "pygments_lexer": "ipython3",
   "version": "3.12.4"
  }
 },
 "nbformat": 4,
 "nbformat_minor": 5
}
